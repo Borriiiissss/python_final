{
  "nbformat": 4,
  "nbformat_minor": 0,
  "metadata": {
    "colab": {
      "provenance": [],
      "authorship_tag": "ABX9TyMCUBwsTx2w6VHEkaJFOzum",
      "include_colab_link": true
    },
    "kernelspec": {
      "name": "python3",
      "display_name": "Python 3"
    },
    "language_info": {
      "name": "python"
    }
  },
  "cells": [
    {
      "cell_type": "markdown",
      "metadata": {
        "id": "view-in-github",
        "colab_type": "text"
      },
      "source": [
        "<a href=\"https://colab.research.google.com/github/Borriiiissss/python_final/blob/master/Untitled0.ipynb\" target=\"_parent\"><img src=\"https://colab.research.google.com/assets/colab-badge.svg\" alt=\"Open In Colab\"/></a>"
      ]
    },
    {
      "cell_type": "markdown",
      "source": [
        "Дана функция f(x) = 5x^2 + 10x - 30\n",
        "f(x) = -12x^4*sin(cos(x)) - 18x^3+5x^2 + 10x - 30\n",
        "\n",
        "1. Определить корни\n",
        "\n",
        "2. Найти интервалы, на которых функция возрастает\n",
        "\n",
        "3. Найти интервалы, на которых функция убывает\n",
        "\n",
        "4. Построить график\n",
        "\n",
        "5. Вычислить вершину\n",
        "\n",
        "6. Определить промежутки, на котором f > 0\n",
        "\n",
        "7. Определить промежутки, на котором f < 0"
      ],
      "metadata": {
        "id": "HqZgJbNvyIs6"
      }
    },
    {
      "cell_type": "code",
      "source": [
        "import sympy"
      ],
      "metadata": {
        "id": "tFuaoJXfazao"
      },
      "execution_count": 4,
      "outputs": []
    },
    {
      "cell_type": "code",
      "source": [
        "from sympy import N, sqrt, sin, cos\n",
        "x = sympy.symbols('x')\n",
        "ans = sympy.solve(-12*x**4*sin(cos(x)) - 18*x**3+5*x**2 + 10*x - 30)\n",
        "shrinking = (-1 + sqrt(7), -sqrt(7) - 1)\n",
        "shrinking = list(map(N, shrinking))\n",
        "print (shrinking)\n"
      ],
      "metadata": {
        "id": "saeQ5FWBaeSU"
      },
      "execution_count": null,
      "outputs": []
    },
    {
      "cell_type": "code",
      "source": [
        "from sympy import is_increasing, Interval, S, oo\n",
        "is_increasing (-12*x**4*sin(cos(x)) - 18*x**3+5*x**2 + 10*x - 30, Interval.open(-1, oo))"
      ],
      "metadata": {
        "id": "ydX7bxfNaeq0"
      },
      "execution_count": 25,
      "outputs": []
    },
    {
      "cell_type": "code",
      "source": [
        "from sympy.calculus.singularities import is_decreasing\n",
        "is_decreasing (-12*x**4*sin(cos(x)) - 18*x**3+5*x**2 + 10*x - 30, Interval.open(oo, -1))"
      ],
      "metadata": {
        "colab": {
          "base_uri": "https://localhost:8080/"
        },
        "id": "5NRT5dqvae3Z",
        "outputId": "318b21aa-9914-481f-db97-b6280e994b51"
      },
      "execution_count": 24,
      "outputs": [
        {
          "output_type": "execute_result",
          "data": {
            "text/plain": [
              "True"
            ]
          },
          "metadata": {},
          "execution_count": 24
        }
      ]
    },
    {
      "cell_type": "code",
      "source": [
        "import matplotlib.pyplot as plt\n",
        "\n",
        "x = [(-12*x**4*sin(cos(x)) - 18*x**3+5*x**2 + 10*x - 30) for x in range (-10, 11)]\n",
        "y = [y for y in range (-10, 11)]\n",
        "fig = plt.figure()\n",
        "ax_3 = fig.add_subplot(2, 2, 4)\n",
        "ax_3.plot(y,x)\n",
        "ax_3.grid(axis = 'both')\n",
        "ax_3.set_title('graph')\n",
        "fig.set_figwidth(12)\n",
        "fig.set_figheight(12)"
      ],
      "metadata": {
        "colab": {
          "base_uri": "https://localhost:8080/",
          "height": 360
        },
        "id": "T8KAZK3_WjmP",
        "outputId": "c75ce77d-a797-48d3-af6e-0874c1c95e41"
      },
      "execution_count": 26,
      "outputs": [
        {
          "output_type": "display_data",
          "data": {
            "text/plain": [
              "<Figure size 864x864 with 1 Axes>"
            ],
            "image/png": "[encoded data removed]"
          },
          "metadata": {
            "needs_background": "light"
          }
        }
      ]
    },
    {
      "cell_type": "code",
      "source": [],
      "metadata": {
        "id": "xe0AVvF1gG5y"
      },
      "execution_count": null,
      "outputs": []
    },
    {
      "cell_type": "code",
      "source": [
        "from sympy import minimum, S\n",
        "minimum(-12*x**4*sin(cos(x)) - 18*x**3+5*x**2 + 10*x - 30, x, S.Reals)"
      ],
      "metadata": {
        "id": "QfRDp3yPgcDe"
      },
      "execution_count": null,
      "outputs": []
    },
    {
      "cell_type": "code",
      "source": [
        "i = -5\n",
        "while i<5:\n",
        "  res = -12*i**4*sin(cos(i)) - 18*i**3+5*i**2 + 10*i - 30\n",
        "  print (f'{i:5} {res}')\n",
        "  i += 0.25"
      ],
      "metadata": {
        "id": "F3HNGD_Zg0F_"
      },
      "execution_count": null,
      "outputs": []
    }
  ]
}